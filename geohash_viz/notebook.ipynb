{
 "cells": [
  {
   "cell_type": "code",
   "execution_count": null,
   "metadata": {
    "collapsed": true
   },
   "outputs": [],
   "source": [
    "# UDF for GROUP BY in queries\n",
    "\n",
    "__base32 = '0123456789bcdefghjkmnpqrstuvwxyz'\n",
    "\n",
    "\n",
    "def encode(lat, lon, precision):\n",
    "    \"\"\"(Double?, Double? Uint32) - String?\n",
    "    \n",
    "    precision(km):\n",
    "    1   ±2500\n",
    "    2   ±630\n",
    "    3   ±78\n",
    "    4   ±20\n",
    "    5   ±2.4\n",
    "    6   ±0.61\n",
    "    7   ±0.076\n",
    "    8   ±0.019\n",
    "    9   ±0.0024\n",
    "    10  ±0.00060\n",
    "    11  ±0.000074\n",
    "    \"\"\"\n",
    "\n",
    "    if lat is None or lon is None:\n",
    "        return None\n",
    "\n",
    "    lat_interval, lon_interval = (-90.0, 90.0), (-180.0, 180.0)\n",
    "    geohash = []\n",
    "    bits = 16, 8, 4, 2, 1\n",
    "    bit = 0\n",
    "    ch = 0\n",
    "    even = True\n",
    "    while len(geohash) < precision:\n",
    "        if even:\n",
    "            mid = (lon_interval[0] + lon_interval[1]) / 2.0\n",
    "            if lon > mid:\n",
    "                ch |= bits[bit]\n",
    "                lon_interval = (mid, lon_interval[1])\n",
    "            else:\n",
    "                lon_interval = (lon_interval[0], mid)\n",
    "        else:\n",
    "            mid = (lat_interval[0] + lat_interval[1]) / 2.0\n",
    "            if lat > mid:\n",
    "                ch |= bits[bit]\n",
    "                lat_interval = (mid, lat_interval[1])\n",
    "            else:\n",
    "                lat_interval = (lat_interval[0], mid)\n",
    "        even = not even\n",
    "        if bit < 4:\n",
    "            bit += 1\n",
    "        else:\n",
    "            geohash += __base32[ch]\n",
    "            bit = 0\n",
    "            ch = 0\n",
    "    return ''.join(geohash)"
   ]
  },
  {
   "cell_type": "code",
   "execution_count": 1,
   "metadata": {},
   "outputs": [],
   "source": [
    "import pandas as pd\n",
    "import geohash\n",
    "import geopandas as gpd\n",
    "from shapely.geometry import Polygon"
   ]
  },
  {
   "cell_type": "code",
   "execution_count": 2,
   "metadata": {},
   "outputs": [
    {
     "name": "stdout",
     "output_type": "stream",
     "text": [
      "{\"geohash\":null,\"Count\":7}\r\n",
      "{\"geohash\":\"66jc6j8\",\"Count\":1}\r\n",
      "{\"geohash\":\"66jcfrn\",\"Count\":6}\r\n",
      "{\"geohash\":\"6f6cw9x\",\"Count\":2}\r\n",
      "{\"geohash\":\"6fuywrj\",\"Count\":1}\r\n",
      "{\"geohash\":\"6gycf03\",\"Count\":1}\r\n",
      "{\"geohash\":\"6gycfmu\",\"Count\":1}\r\n",
      "{\"geohash\":\"6gyf5b5\",\"Count\":1}\r\n",
      "{\"geohash\":\"6mc5nkz\",\"Count\":3}\r\n",
      "{\"geohash\":\"6mc6b44\",\"Count\":3}\r\n"
     ]
    }
   ],
   "source": [
    "!head \"./data.json\""
   ]
  },
  {
   "cell_type": "code",
   "execution_count": 3,
   "metadata": {},
   "outputs": [
    {
     "data": {
      "text/plain": [
       "(114676, 2)"
      ]
     },
     "execution_count": 3,
     "metadata": {},
     "output_type": "execute_result"
    }
   ],
   "source": [
    "df = pd.read_json(\"./data.json\", lines=True)\n",
    "df = df.loc[~df.geohash.isnull()]\n",
    "df.shape"
   ]
  },
  {
   "cell_type": "code",
   "execution_count": 4,
   "metadata": {
    "collapsed": true
   },
   "outputs": [],
   "source": [
    "def polygon_from_geohash(geo):\n",
    "    \n",
    "    bbox = geohash.bbox(geo)\n",
    "    lower_left = bbox['w'], bbox['s']\n",
    "    upper_left = bbox['w'], bbox['n']\n",
    "    lower_right = bbox['e'],bbox['s']\n",
    "    upper_right = bbox['e'],bbox['n']\n",
    "\n",
    "    return Polygon((lower_left, upper_left, upper_right, lower_right, lower_left))"
   ]
  },
  {
   "cell_type": "code",
   "execution_count": 5,
   "metadata": {},
   "outputs": [
    {
     "data": {
      "text/html": [
       "<div>\n",
       "<table border=\"1\" class=\"dataframe\">\n",
       "  <thead>\n",
       "    <tr style=\"text-align: right;\">\n",
       "      <th></th>\n",
       "      <th>Count</th>\n",
       "      <th>geohash</th>\n",
       "    </tr>\n",
       "  </thead>\n",
       "  <tbody>\n",
       "    <tr>\n",
       "      <th>1</th>\n",
       "      <td>1</td>\n",
       "      <td>POLYGON ((-70.576171875 -33.50006103515625, -7...</td>\n",
       "    </tr>\n",
       "    <tr>\n",
       "      <th>2</th>\n",
       "      <td>6</td>\n",
       "      <td>POLYGON ((-70.55694580078125 -33.4039306640625...</td>\n",
       "    </tr>\n",
       "    <tr>\n",
       "      <th>3</th>\n",
       "      <td>2</td>\n",
       "      <td>POLYGON ((-52.08755493164062 -32.0718383789062...</td>\n",
       "    </tr>\n",
       "    <tr>\n",
       "      <th>4</th>\n",
       "      <td>1</td>\n",
       "      <td>POLYGON ((-49.28878784179688 -28.3502197265625...</td>\n",
       "    </tr>\n",
       "    <tr>\n",
       "      <th>5</th>\n",
       "      <td>1</td>\n",
       "      <td>POLYGON ((-46.66854858398438 -23.5972595214843...</td>\n",
       "    </tr>\n",
       "  </tbody>\n",
       "</table>\n",
       "</div>"
      ],
      "text/plain": [
       "   Count                                            geohash\n",
       "1      1  POLYGON ((-70.576171875 -33.50006103515625, -7...\n",
       "2      6  POLYGON ((-70.55694580078125 -33.4039306640625...\n",
       "3      2  POLYGON ((-52.08755493164062 -32.0718383789062...\n",
       "4      1  POLYGON ((-49.28878784179688 -28.3502197265625...\n",
       "5      1  POLYGON ((-46.66854858398438 -23.5972595214843..."
      ]
     },
     "execution_count": 5,
     "metadata": {},
     "output_type": "execute_result"
    }
   ],
   "source": [
    "df.geohash = df.geohash.apply(polygon_from_geohash)\n",
    "gdf = gpd.GeoDataFrame(df, geometry='geohash')\n",
    "gdf.head()"
   ]
  },
  {
   "cell_type": "code",
   "execution_count": 7,
   "metadata": {},
   "outputs": [],
   "source": [
    "gdf.to_file('decoded_data.geojson', driver='GeoJSON', encoding=\"utf-8\")"
   ]
  },
  {
   "cell_type": "markdown",
   "metadata": {},
   "source": [
    "![](map.png)"
   ]
  }
 ],
 "metadata": {
  "kernelspec": {
   "display_name": "Python 2",
   "language": "python",
   "name": "python2"
  },
  "language_info": {
   "codemirror_mode": {
    "name": "ipython",
    "version": 2
   },
   "file_extension": ".py",
   "mimetype": "text/x-python",
   "name": "python",
   "nbconvert_exporter": "python",
   "pygments_lexer": "ipython2",
   "version": "2.7.13"
  }
 },
 "nbformat": 4,
 "nbformat_minor": 2
}
