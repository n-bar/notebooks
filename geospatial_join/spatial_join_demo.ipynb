{
 "cells": [
  {
   "cell_type": "code",
   "execution_count": 1,
   "metadata": {
    "collapsed": false
   },
   "outputs": [],
   "source": [
    "import pandas as pd\n",
    "import geopandas as gpd\n",
    "from shapely.geometry import Point"
   ]
  },
  {
   "cell_type": "markdown",
   "metadata": {},
   "source": [
    "geojson с муниципальными образованиями от [gis-lab.info](http://gis-lab.info/qa/moscow-atd.html#.D0.A1.D0.BA.D0.B0.D1.87.D0.B0.D1.82.D1.8C_.D0.B4.D0.B0.D0.BD.D0.BD.D1.8B.D0.B5) или [github.com](https://github.com/blackmad/neighborhoods/blob/master/gn-moscow.geojson)\n",
    "\n",
    "```bash\n",
    "$ conda install geopandas\n",
    "```\n",
    "\n",
    "Если ошибка во время импорта `fiona`\n",
    "```bash\n",
    "$ conda install fiona \"libgdal<2.1\"\n",
    "```"
   ]
  },
  {
   "cell_type": "code",
   "execution_count": 2,
   "metadata": {
    "collapsed": false
   },
   "outputs": [
    {
     "data": {
      "text/html": [
       "<div>\n",
       "<table border=\"1\" class=\"dataframe\">\n",
       "  <thead>\n",
       "    <tr style=\"text-align: right;\">\n",
       "      <th></th>\n",
       "      <th>geometry</th>\n",
       "      <th>NAME</th>\n",
       "    </tr>\n",
       "  </thead>\n",
       "  <tbody>\n",
       "    <tr>\n",
       "      <th>0</th>\n",
       "      <td>(POLYGON ((36.8031 55.44083, 36.80319 55.4416,...</td>\n",
       "      <td>Киевский</td>\n",
       "    </tr>\n",
       "    <tr>\n",
       "      <th>1</th>\n",
       "      <td>POLYGON ((37.42765 55.74821, 37.42849 55.74875...</td>\n",
       "      <td>Филёвский Парк</td>\n",
       "    </tr>\n",
       "    <tr>\n",
       "      <th>2</th>\n",
       "      <td>POLYGON ((36.80357 55.45162, 36.80451 55.46551...</td>\n",
       "      <td>Новофёдоровское</td>\n",
       "    </tr>\n",
       "    <tr>\n",
       "      <th>3</th>\n",
       "      <td>POLYGON ((36.93724 55.24139, 36.93726 55.24161...</td>\n",
       "      <td>Роговское</td>\n",
       "    </tr>\n",
       "    <tr>\n",
       "      <th>4</th>\n",
       "      <td>POLYGON ((37.43956 55.62731, 37.44018 55.63042...</td>\n",
       "      <td>\"Мосрентген\"</td>\n",
       "    </tr>\n",
       "  </tbody>\n",
       "</table>\n",
       "</div>"
      ],
      "text/plain": [
       "                                            geometry             NAME\n",
       "0  (POLYGON ((36.8031 55.44083, 36.80319 55.4416,...         Киевский\n",
       "1  POLYGON ((37.42765 55.74821, 37.42849 55.74875...   Филёвский Парк\n",
       "2  POLYGON ((36.80357 55.45162, 36.80451 55.46551...  Новофёдоровское\n",
       "3  POLYGON ((36.93724 55.24139, 36.93726 55.24161...        Роговское\n",
       "4  POLYGON ((37.43956 55.62731, 37.44018 55.63042...     \"Мосрентген\""
      ]
     },
     "execution_count": 2,
     "metadata": {},
     "output_type": "execute_result"
    }
   ],
   "source": [
    "shapes = gpd.read_file(\"./mo.geojson\")\n",
    "shapes = shapes.loc[:,[\"geometry\", \"NAME\"]]\n",
    "shapes.head()"
   ]
  },
  {
   "cell_type": "code",
   "execution_count": 3,
   "metadata": {
    "collapsed": false
   },
   "outputs": [
    {
     "data": {
      "text/html": [
       "<div>\n",
       "<table border=\"1\" class=\"dataframe\">\n",
       "  <thead>\n",
       "    <tr style=\"text-align: right;\">\n",
       "      <th></th>\n",
       "      <th>lat</th>\n",
       "      <th>lon</th>\n",
       "      <th>geometry</th>\n",
       "    </tr>\n",
       "  </thead>\n",
       "  <tbody>\n",
       "    <tr>\n",
       "      <th>0</th>\n",
       "      <td>55.80614</td>\n",
       "      <td>37.78192</td>\n",
       "      <td>POINT (37.78192 55.80614)</td>\n",
       "    </tr>\n",
       "    <tr>\n",
       "      <th>1</th>\n",
       "      <td>55.82009</td>\n",
       "      <td>37.51120</td>\n",
       "      <td>POINT (37.5112 55.82009)</td>\n",
       "    </tr>\n",
       "    <tr>\n",
       "      <th>2</th>\n",
       "      <td>55.59759</td>\n",
       "      <td>39.51329</td>\n",
       "      <td>POINT (39.51329 55.59759)</td>\n",
       "    </tr>\n",
       "    <tr>\n",
       "      <th>3</th>\n",
       "      <td>55.80573</td>\n",
       "      <td>37.77863</td>\n",
       "      <td>POINT (37.77863 55.80573)</td>\n",
       "    </tr>\n",
       "    <tr>\n",
       "      <th>4</th>\n",
       "      <td>55.77469</td>\n",
       "      <td>37.60546</td>\n",
       "      <td>POINT (37.60546 55.77469)</td>\n",
       "    </tr>\n",
       "  </tbody>\n",
       "</table>\n",
       "</div>"
      ],
      "text/plain": [
       "        lat       lon                   geometry\n",
       "0  55.80614  37.78192  POINT (37.78192 55.80614)\n",
       "1  55.82009  37.51120   POINT (37.5112 55.82009)\n",
       "2  55.59759  39.51329  POINT (39.51329 55.59759)\n",
       "3  55.80573  37.77863  POINT (37.77863 55.80573)\n",
       "4  55.77469  37.60546  POINT (37.60546 55.77469)"
      ]
     },
     "execution_count": 3,
     "metadata": {},
     "output_type": "execute_result"
    }
   ],
   "source": [
    "events = pd.read_table(\"./data.tsv\")\n",
    "events[\"geometry\"] = events.apply(lambda row: Point(row[\"lon\"], row[\"lat\"]), axis=1)\n",
    "events = gpd.GeoDataFrame(events, geometry=\"geometry\")\n",
    "events.head()"
   ]
  },
  {
   "cell_type": "code",
   "execution_count": 4,
   "metadata": {
    "collapsed": false
   },
   "outputs": [
    {
     "name": "stdout",
     "output_type": "stream",
     "text": [
      "Warning: CRS does not match!\n"
     ]
    },
    {
     "data": {
      "text/html": [
       "<div>\n",
       "<table border=\"1\" class=\"dataframe\">\n",
       "  <thead>\n",
       "    <tr style=\"text-align: right;\">\n",
       "      <th></th>\n",
       "      <th>geometry</th>\n",
       "      <th>NAME</th>\n",
       "      <th>index_right</th>\n",
       "      <th>lat</th>\n",
       "      <th>lon</th>\n",
       "    </tr>\n",
       "  </thead>\n",
       "  <tbody>\n",
       "    <tr>\n",
       "      <th>0</th>\n",
       "      <td>(POLYGON ((36.8031 55.44083, 36.80319 55.4416,...</td>\n",
       "      <td>Киевский</td>\n",
       "      <td>100</td>\n",
       "      <td>55.42901</td>\n",
       "      <td>36.86551</td>\n",
       "    </tr>\n",
       "    <tr>\n",
       "      <th>0</th>\n",
       "      <td>(POLYGON ((36.8031 55.44083, 36.80319 55.4416,...</td>\n",
       "      <td>Киевский</td>\n",
       "      <td>33203</td>\n",
       "      <td>55.42642</td>\n",
       "      <td>36.86566</td>\n",
       "    </tr>\n",
       "    <tr>\n",
       "      <th>0</th>\n",
       "      <td>(POLYGON ((36.8031 55.44083, 36.80319 55.4416,...</td>\n",
       "      <td>Киевский</td>\n",
       "      <td>29688</td>\n",
       "      <td>55.42756</td>\n",
       "      <td>36.86603</td>\n",
       "    </tr>\n",
       "    <tr>\n",
       "      <th>0</th>\n",
       "      <td>(POLYGON ((36.8031 55.44083, 36.80319 55.4416,...</td>\n",
       "      <td>Киевский</td>\n",
       "      <td>9928</td>\n",
       "      <td>55.42606</td>\n",
       "      <td>36.86663</td>\n",
       "    </tr>\n",
       "    <tr>\n",
       "      <th>0</th>\n",
       "      <td>(POLYGON ((36.8031 55.44083, 36.80319 55.4416,...</td>\n",
       "      <td>Киевский</td>\n",
       "      <td>27602</td>\n",
       "      <td>55.43028</td>\n",
       "      <td>36.86735</td>\n",
       "    </tr>\n",
       "  </tbody>\n",
       "</table>\n",
       "</div>"
      ],
      "text/plain": [
       "                                            geometry      NAME  index_right  \\\n",
       "0  (POLYGON ((36.8031 55.44083, 36.80319 55.4416,...  Киевский          100   \n",
       "0  (POLYGON ((36.8031 55.44083, 36.80319 55.4416,...  Киевский        33203   \n",
       "0  (POLYGON ((36.8031 55.44083, 36.80319 55.4416,...  Киевский        29688   \n",
       "0  (POLYGON ((36.8031 55.44083, 36.80319 55.4416,...  Киевский         9928   \n",
       "0  (POLYGON ((36.8031 55.44083, 36.80319 55.4416,...  Киевский        27602   \n",
       "\n",
       "        lat       lon  \n",
       "0  55.42901  36.86551  \n",
       "0  55.42642  36.86566  \n",
       "0  55.42756  36.86603  \n",
       "0  55.42606  36.86663  \n",
       "0  55.43028  36.86735  "
      ]
     },
     "execution_count": 4,
     "metadata": {},
     "output_type": "execute_result"
    }
   ],
   "source": [
    "joined_data = gpd.tools.sjoin(shapes, events, how=\"inner\")\n",
    "joined_data[~joined_data.NAME.isnull()].head()"
   ]
  },
  {
   "cell_type": "code",
   "execution_count": 5,
   "metadata": {
    "collapsed": false
   },
   "outputs": [
    {
     "data": {
      "text/html": [
       "<div>\n",
       "<table border=\"1\" class=\"dataframe\">\n",
       "  <thead>\n",
       "    <tr style=\"text-align: right;\">\n",
       "      <th></th>\n",
       "      <th>geometry</th>\n",
       "      <th>NAME</th>\n",
       "      <th>index_right</th>\n",
       "      <th>lat</th>\n",
       "      <th>lon</th>\n",
       "    </tr>\n",
       "  </thead>\n",
       "  <tbody>\n",
       "  </tbody>\n",
       "</table>\n",
       "</div>"
      ],
      "text/plain": [
       "Empty GeoDataFrame\n",
       "Columns: [geometry, NAME, index_right, lat, lon]\n",
       "Index: []"
      ]
     },
     "execution_count": 5,
     "metadata": {},
     "output_type": "execute_result"
    }
   ],
   "source": [
    "joined_data[joined_data.NAME.isnull()].head()"
   ]
  },
  {
   "cell_type": "code",
   "execution_count": 6,
   "metadata": {
    "collapsed": false
   },
   "outputs": [
    {
     "data": {
      "text/html": [
       "<div>\n",
       "<table border=\"1\" class=\"dataframe\">\n",
       "  <thead>\n",
       "    <tr style=\"text-align: right;\">\n",
       "      <th></th>\n",
       "      <th>geometry</th>\n",
       "      <th>NAME</th>\n",
       "      <th>index_right</th>\n",
       "      <th>lat</th>\n",
       "      <th>lon</th>\n",
       "    </tr>\n",
       "  </thead>\n",
       "  <tbody>\n",
       "    <tr>\n",
       "      <th>0</th>\n",
       "      <td>(POLYGON ((36.8031 55.44083, 36.80319 55.4416,...</td>\n",
       "      <td>Киевский</td>\n",
       "      <td>100</td>\n",
       "      <td>55.42901</td>\n",
       "      <td>36.86551</td>\n",
       "    </tr>\n",
       "    <tr>\n",
       "      <th>0</th>\n",
       "      <td>(POLYGON ((36.8031 55.44083, 36.80319 55.4416,...</td>\n",
       "      <td>Киевский</td>\n",
       "      <td>33203</td>\n",
       "      <td>55.42642</td>\n",
       "      <td>36.86566</td>\n",
       "    </tr>\n",
       "    <tr>\n",
       "      <th>0</th>\n",
       "      <td>(POLYGON ((36.8031 55.44083, 36.80319 55.4416,...</td>\n",
       "      <td>Киевский</td>\n",
       "      <td>29688</td>\n",
       "      <td>55.42756</td>\n",
       "      <td>36.86603</td>\n",
       "    </tr>\n",
       "    <tr>\n",
       "      <th>0</th>\n",
       "      <td>(POLYGON ((36.8031 55.44083, 36.80319 55.4416,...</td>\n",
       "      <td>Киевский</td>\n",
       "      <td>9928</td>\n",
       "      <td>55.42606</td>\n",
       "      <td>36.86663</td>\n",
       "    </tr>\n",
       "    <tr>\n",
       "      <th>0</th>\n",
       "      <td>(POLYGON ((36.8031 55.44083, 36.80319 55.4416,...</td>\n",
       "      <td>Киевский</td>\n",
       "      <td>27602</td>\n",
       "      <td>55.43028</td>\n",
       "      <td>36.86735</td>\n",
       "    </tr>\n",
       "  </tbody>\n",
       "</table>\n",
       "</div>"
      ],
      "text/plain": [
       "                                            geometry      NAME  index_right  \\\n",
       "0  (POLYGON ((36.8031 55.44083, 36.80319 55.4416,...  Киевский          100   \n",
       "0  (POLYGON ((36.8031 55.44083, 36.80319 55.4416,...  Киевский        33203   \n",
       "0  (POLYGON ((36.8031 55.44083, 36.80319 55.4416,...  Киевский        29688   \n",
       "0  (POLYGON ((36.8031 55.44083, 36.80319 55.4416,...  Киевский         9928   \n",
       "0  (POLYGON ((36.8031 55.44083, 36.80319 55.4416,...  Киевский        27602   \n",
       "\n",
       "        lat       lon  \n",
       "0  55.42901  36.86551  \n",
       "0  55.42642  36.86566  \n",
       "0  55.42756  36.86603  \n",
       "0  55.42606  36.86663  \n",
       "0  55.43028  36.86735  "
      ]
     },
     "execution_count": 6,
     "metadata": {},
     "output_type": "execute_result"
    }
   ],
   "source": [
    "joined_data[~joined_data.NAME.isnull()].head()"
   ]
  },
  {
   "cell_type": "code",
   "execution_count": 12,
   "metadata": {
    "collapsed": false
   },
   "outputs": [
    {
     "data": {
      "text/html": [
       "<div>\n",
       "<table border=\"1\" class=\"dataframe\">\n",
       "  <thead>\n",
       "    <tr style=\"text-align: right;\">\n",
       "      <th></th>\n",
       "      <th>NAME</th>\n",
       "      <th>Count</th>\n",
       "    </tr>\n",
       "  </thead>\n",
       "  <tbody>\n",
       "    <tr>\n",
       "      <th>0</th>\n",
       "      <td>\"Мосрентген\"</td>\n",
       "      <td>83</td>\n",
       "    </tr>\n",
       "    <tr>\n",
       "      <th>1</th>\n",
       "      <td>Академический</td>\n",
       "      <td>434</td>\n",
       "    </tr>\n",
       "    <tr>\n",
       "      <th>2</th>\n",
       "      <td>Алексеевский</td>\n",
       "      <td>314</td>\n",
       "    </tr>\n",
       "    <tr>\n",
       "      <th>3</th>\n",
       "      <td>Алтуфьевский</td>\n",
       "      <td>211</td>\n",
       "    </tr>\n",
       "    <tr>\n",
       "      <th>4</th>\n",
       "      <td>Арбат</td>\n",
       "      <td>112</td>\n",
       "    </tr>\n",
       "  </tbody>\n",
       "</table>\n",
       "</div>"
      ],
      "text/plain": [
       "            NAME  Count\n",
       "0   \"Мосрентген\"     83\n",
       "1  Академический    434\n",
       "2   Алексеевский    314\n",
       "3   Алтуфьевский    211\n",
       "4          Арбат    112"
      ]
     },
     "execution_count": 12,
     "metadata": {},
     "output_type": "execute_result"
    }
   ],
   "source": [
    "joined_data[\"Count\"] = 1\n",
    "stat = joined_data.groupby([\"NAME\"], as_index=False).agg({\"Count\": sum})\n",
    "stat.head()"
   ]
  },
  {
   "cell_type": "code",
   "execution_count": 23,
   "metadata": {
    "collapsed": false
   },
   "outputs": [
    {
     "data": {
      "text/html": [
       "<div>\n",
       "<table border=\"1\" class=\"dataframe\">\n",
       "  <thead>\n",
       "    <tr style=\"text-align: right;\">\n",
       "      <th></th>\n",
       "      <th>NAME</th>\n",
       "      <th>Count</th>\n",
       "      <th>geometry</th>\n",
       "    </tr>\n",
       "  </thead>\n",
       "  <tbody>\n",
       "    <tr>\n",
       "      <th>0</th>\n",
       "      <td>\"Мосрентген\"</td>\n",
       "      <td>83</td>\n",
       "      <td>POLYGON ((37.43956 55.62731, 37.44018 55.63042...</td>\n",
       "    </tr>\n",
       "    <tr>\n",
       "      <th>1</th>\n",
       "      <td>Академический</td>\n",
       "      <td>434</td>\n",
       "      <td>POLYGON ((37.55226 55.68403, 37.55232 55.68408...</td>\n",
       "    </tr>\n",
       "    <tr>\n",
       "      <th>2</th>\n",
       "      <td>Алексеевский</td>\n",
       "      <td>314</td>\n",
       "      <td>POLYGON ((37.63499 55.79714, 37.63552 55.79965...</td>\n",
       "    </tr>\n",
       "    <tr>\n",
       "      <th>3</th>\n",
       "      <td>Алтуфьевский</td>\n",
       "      <td>211</td>\n",
       "      <td>POLYGON ((37.5674 55.8873, 37.57245 55.88724, ...</td>\n",
       "    </tr>\n",
       "    <tr>\n",
       "      <th>4</th>\n",
       "      <td>Арбат</td>\n",
       "      <td>112</td>\n",
       "      <td>POLYGON ((37.57206 55.75202, 37.57396 55.75256...</td>\n",
       "    </tr>\n",
       "  </tbody>\n",
       "</table>\n",
       "</div>"
      ],
      "text/plain": [
       "            NAME  Count                                           geometry\n",
       "0   \"Мосрентген\"     83  POLYGON ((37.43956 55.62731, 37.44018 55.63042...\n",
       "1  Академический    434  POLYGON ((37.55226 55.68403, 37.55232 55.68408...\n",
       "2   Алексеевский    314  POLYGON ((37.63499 55.79714, 37.63552 55.79965...\n",
       "3   Алтуфьевский    211  POLYGON ((37.5674 55.8873, 37.57245 55.88724, ...\n",
       "4          Арбат    112  POLYGON ((37.57206 55.75202, 37.57396 55.75256..."
      ]
     },
     "execution_count": 23,
     "metadata": {},
     "output_type": "execute_result"
    }
   ],
   "source": [
    "result = gpd.GeoDataFrame(pd.merge(stat, shapes, on=\"NAME\"))\n",
    "result.head()"
   ]
  },
  {
   "cell_type": "code",
   "execution_count": 24,
   "metadata": {
    "collapsed": false
   },
   "outputs": [
    {
     "data": {
      "text/plain": [
       "{'ARCGEN': 'r',\n",
       " 'AeronavFAA': 'r',\n",
       " 'BNA': 'raw',\n",
       " 'DGN': 'raw',\n",
       " 'DXF': 'raw',\n",
       " 'ESRI Shapefile': 'raw',\n",
       " 'FileGDB': 'raw',\n",
       " 'GMT': 'raw',\n",
       " 'GPKG': 'rw',\n",
       " 'GPSTrackMaker': 'raw',\n",
       " 'GPX': 'raw',\n",
       " 'GeoJSON': 'rw',\n",
       " 'Idrisi': 'r',\n",
       " 'MapInfo File': 'raw',\n",
       " 'OpenFileGDB': 'r',\n",
       " 'PCIDSK': 'r',\n",
       " 'PDS': 'r',\n",
       " 'SEGY': 'r',\n",
       " 'SUA': 'r'}"
      ]
     },
     "execution_count": 24,
     "metadata": {},
     "output_type": "execute_result"
    }
   ],
   "source": [
    "import fiona; fiona.supported_drivers"
   ]
  },
  {
   "cell_type": "code",
   "execution_count": 26,
   "metadata": {
    "collapsed": false
   },
   "outputs": [],
   "source": [
    "result.to_file(\"result.geojson\", encoding=\"utf-8\", driver=\"GeoJSON\")"
   ]
  },
  {
   "cell_type": "code",
   "execution_count": 27,
   "metadata": {
    "collapsed": true
   },
   "outputs": [],
   "source": [
    "!open ./result.geojson -a tableau"
   ]
  },
  {
   "cell_type": "markdown",
   "metadata": {},
   "source": [
    "![opt](options.png)\n",
    "![viz](viz.png)"
   ]
  },
  {
   "cell_type": "code",
   "execution_count": null,
   "metadata": {
    "collapsed": true
   },
   "outputs": [],
   "source": []
  }
 ],
 "metadata": {
  "anaconda-cloud": {},
  "kernelspec": {
   "display_name": "Python [default]",
   "language": "python",
   "name": "python2"
  },
  "language_info": {
   "codemirror_mode": {
    "name": "ipython",
    "version": 2
   },
   "file_extension": ".py",
   "mimetype": "text/x-python",
   "name": "python",
   "nbconvert_exporter": "python",
   "pygments_lexer": "ipython2",
   "version": "2.7.12"
  }
 },
 "nbformat": 4,
 "nbformat_minor": 1
}
